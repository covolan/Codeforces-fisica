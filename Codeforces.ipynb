{
 "cells": [
  {
   "cell_type": "markdown",
   "id": "8ba01b75",
   "metadata": {},
   "source": [
    "# A. Watermelon (800)\n",
    "One hot summer day Pete and his friend Billy decided to buy a watermelon. They chose the biggest and the ripest one, in their opinion. After that the watermelon was weighed, and the scales showed $w$ kilos. They rushed home, dying of thirst, and decided to divide the berry, however they faced a hard problem.\n",
    "\n",
    "Pete and Billy are great fans of even numbers, that's why they want to divide the watermelon in such a way that each of the two parts weighs even number of kilos, at the same time it is not obligatory that the parts are equal. The boys are extremely tired and want to start their meal as soon as possible, that's why you should help them and find out, if they can divide the watermelon in the way they want. For sure, each of them should get a part of positive weight.\n",
    "\n",
    "### Input\n",
    "The first (and the only) input line contains integer number $w (1 ≤ w ≤ 100)$ — the weight of the watermelon bought by the boys.\n",
    "\n",
    "**8**\n",
    "\n",
    "### Output\n",
    "Print YES, if the boys can divide the watermelon into two parts, each of them weighing even number of kilos; and NO in the opposite case.\n",
    "\n",
    "**YES**"
   ]
  },
  {
   "cell_type": "code",
   "execution_count": null,
   "id": "87b619dc",
   "metadata": {},
   "outputs": [],
   "source": [
    "ww = int(input('Insira um valor para o peso da melancia: '))\n",
    "\n",
    "awnser = ''\n",
    "\n",
    "if (ww % 2) == 0:\n",
    "    awnser = 'YES'\n",
    "else:\n",
    "    awnser = 'NO'\n",
    "\n",
    "print(awnser)\n",
    "\n",
    "# Este programa pode ser realizado desta forma pois, mesmo que um numero que é divisivel por 2 resulte em 2 números impares\n",
    "# podemos retirar 1 de uma metade e acrescentar 1 na outra, ficando assim com as duas partes pares, portanto qualquer número\n",
    "# divisivel por 2 maior que 2, pode ser escrito como uma soma de dois números pares.\n"
   ]
  },
  {
   "cell_type": "markdown",
   "id": "06f340b4",
   "metadata": {},
   "source": [
    "---"
   ]
  },
  {
   "cell_type": "markdown",
   "id": "db39c7c7",
   "metadata": {},
   "source": [
    "# A. Way Too Long Words (800)\n",
    "Sometimes some words like \"localization\" or \"internationalization\" are so long that writing them many times in one text is quite tiresome.\n",
    "\n",
    "Let's consider a word too long, if its length is strictly more than 10 characters. All too long words should be replaced with a special abbreviation.\n",
    "\n",
    "This abbreviation is made like this: we write down the first and the last letter of a word and between them we write the number of letters between the first and the last letters. That number is in decimal system and doesn't contain any leading zeroes.\n",
    "\n",
    "Thus, \"localization\" will be spelt as \"l10n\", and \"internationalization» will be spelt as \"i18n\".\n",
    "\n",
    "You are suggested to automatize the process of changing the words with abbreviations. At that all too long words should be replaced by the abbreviation and the words that are not too long should not undergo any changes.\n",
    "\n",
    "### Input\n",
    "The first line contains an integer $n (1 ≤ n ≤ 100)$. Each of the following $n$ lines contains one word. All the words consist of lowercase Latin letters and possess the lengths of from 1 to 100 characters.\n",
    "\n",
    "\n",
    "**4**\n",
    "\n",
    "**word**\n",
    "\n",
    "**localization**\n",
    "\n",
    "**internationalization**\n",
    "\n",
    "**pneumonoultramicroscopicsilicovolcanoconiosis**\n",
    "\n",
    "\n",
    "### Output\n",
    "Print $n$ lines. The $i$-th line should contain the result of replacing of the i-th word from the input data.\n",
    "\n",
    "**word**\n",
    "\n",
    "**l10n**\n",
    "\n",
    "**i18n**\n",
    "\n",
    "**p43s**"
   ]
  },
  {
   "cell_type": "code",
   "execution_count": null,
   "id": "3f73ba08",
   "metadata": {},
   "outputs": [],
   "source": [
    "palavra = input('Digite uma palavra: ')\n",
    "k = ''\n",
    "try:\n",
    "    k = int(palavra)\n",
    "except:\n",
    "    pass\n",
    "finally:\n",
    "    if type(k) == type('') and len(palavra) > 10:\n",
    "        print(f'{palavra[0]}{len(palavra) - 2}{palavra[-1]}')\n",
    "    elif type(k) == type(''):\n",
    "        print(palavra)"
   ]
  },
  {
   "cell_type": "markdown",
   "id": "38241e2f",
   "metadata": {},
   "source": [
    "---"
   ]
  },
  {
   "cell_type": "markdown",
   "id": "3029f5e5",
   "metadata": {},
   "source": [
    "# A. Team\n",
    "One day three best friends Petya, Vasya and Tonya decided to form a team and take part in programming contests. Participants are usually offered several problems during programming contests. Long before the start the friends decided that they will implement a problem if at least two of them are sure about the solution. Otherwise, the friends won't write the problem's solution.\n",
    "\n",
    "This contest offers n problems to the participants. For each problem we know, which friend is sure about the solution. Help the friends find the number of problems for which they will write a solution.\n",
    "\n",
    "### Input\n",
    "The first input line contains a single integer $n (1 ≤ n ≤ 1000)$ — the number of problems in the contest. Then $n$ lines contain three integers each, each integer is either 0 or 1. If the first number in the line equals 1, then Petya is sure about the problem's solution, otherwise he isn't sure. The second number shows Vasya's view on the solution, the third number shows Tonya's view. The numbers on the lines are separated by spaces.\n",
    "\n",
    "*First case:*\n",
    "\n",
    "**3**\n",
    "\n",
    "**1 1 0**\n",
    "\n",
    "**1 1 1**\n",
    "\n",
    "**1 0 0**\n",
    "\n",
    "*Second case:*\n",
    "\n",
    "**2**\n",
    "\n",
    "**1 0 0**\n",
    "\n",
    "**0 1 1**\n",
    "\n",
    "### Output\n",
    "Print a single integer — the number of problems the friends will implement on the contest.\n",
    "\n",
    "*First case:*\n",
    "\n",
    "**2**\n",
    "\n",
    "*Second case:*\n",
    "\n",
    "**1**\n"
   ]
  },
  {
   "cell_type": "code",
   "execution_count": null,
   "id": "0f4ab082",
   "metadata": {},
   "outputs": [],
   "source": [
    "qntDeEx = int(input('Digite uma quantidade de exercícios entre 1 e 1000:\\n'))\n",
    "\n",
    "qntDeCertezas = 0\n",
    "for c in range(0, qntDeEx):\n",
    "    somDeCertezas = 0\n",
    "    inputDados = list(input('').strip().split(' '))\n",
    "    for i in inputDados:\n",
    "        somDeCertezas += int(i)\n",
    "    inputDados.clear()\n",
    "    if somDeCertezas >= 2:\n",
    "        qntDeCertezas += 1\n",
    "\n",
    "print(qntDeCertezas)\n",
    "    "
   ]
  },
  {
   "cell_type": "markdown",
   "id": "5dcb20ea",
   "metadata": {},
   "source": [
    "---"
   ]
  },
  {
   "cell_type": "markdown",
   "id": "a867ad54",
   "metadata": {},
   "source": [
    "# A. Next Round\n",
    "\"Contestant who earns a score equal to or greater than the $k$-th place finisher's score will advance to the next round, as long as the contestant earns a positive score...\" — an excerpt from contest rules.\n",
    "\n",
    "A total of $n$ participants took part in the contest $(n ≥ k)$, and you already know their scores. Calculate how many participants will advance to the next round.\n",
    "\n",
    "### Input\n",
    "The first line of the input contains two integers $n$ and $k (1 ≤ k ≤ n ≤ 50)$ separated by a single space.\n",
    "\n",
    "The second line contains n space-separated integers $a_{1}, a_{2}, ...,$ $a_{i}$ $(0 ≤ a_{i} ≤ 100)$, where $a_{i}$ is the score earned by the participant who got the $i$-th place. The given sequence is non-increasing (that is, for all $i$ from $1$ to $n - 1$ the following condition is fulfilled: $ a_{i} ≥ a_{i} + 1)$.\n",
    "\n",
    "*First case:*\n",
    "\n",
    "**8 5**\n",
    "\n",
    "**10 9 8 7 7 7 5 5**\n",
    "\n",
    "*Second case:*\n",
    "\n",
    "**4 2**\n",
    "\n",
    "**0 0 0 0**\n",
    "\n",
    "### Output\n",
    "Output the number of participants who advance to the next round.\n",
    "\n",
    "*First case:*\n",
    "\n",
    "**6**\n",
    "\n",
    "*Second case:*\n",
    "\n",
    "**0**\n"
   ]
  },
  {
   "cell_type": "code",
   "execution_count": null,
   "id": "8b4d84a4",
   "metadata": {},
   "outputs": [],
   "source": [
    "qntDeGanhadores = 0\n",
    "\n",
    "n_k = list(input('Insira n e k: \\n').strip().split(' '))\n",
    "for i, j in enumerate(n_k):\n",
    "    n_k[i] = int(j)\n",
    "\n",
    "participantes = list(input('Insira os participantes: \\n').strip().split(' '))\n",
    "for i, j in enumerate(participantes):\n",
    "    participantes[i] = int(j)\n",
    "    \n",
    "if len(participantes) == n_k[0]:\n",
    "    notaDeCorte = participantes[n_k[1]]\n",
    "    for c in participantes:\n",
    "        if c >= notaDeCorte and notaDeCorte > 0:\n",
    "            qntDeGanhadores += 1\n",
    "else:\n",
    "    print('Número de participantes incorreto!')\n",
    "    \n",
    "print(qntDeGanhadores)"
   ]
  }
 ],
 "metadata": {
  "kernelspec": {
   "display_name": "Python 3",
   "language": "python",
   "name": "python3"
  },
  "language_info": {
   "codemirror_mode": {
    "name": "ipython",
    "version": 3
   },
   "file_extension": ".py",
   "mimetype": "text/x-python",
   "name": "python",
   "nbconvert_exporter": "python",
   "pygments_lexer": "ipython3",
   "version": "3.9.2"
  }
 },
 "nbformat": 4,
 "nbformat_minor": 5
}
