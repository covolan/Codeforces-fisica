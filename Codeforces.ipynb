{
 "cells": [
  {
   "cell_type": "markdown",
   "id": "8ba01b75",
   "metadata": {},
   "source": [
    "# A. Watermelon (800)\n",
    "One hot summer day Pete and his friend Billy decided to buy a watermelon. They chose the biggest and the ripest one, in their opinion. After that the watermelon was weighed, and the scales showed $w$ kilos. They rushed home, dying of thirst, and decided to divide the berry, however they faced a hard problem.\n",
    "\n",
    "Pete and Billy are great fans of even numbers, that's why they want to divide the watermelon in such a way that each of the two parts weighs even number of kilos, at the same time it is not obligatory that the parts are equal. The boys are extremely tired and want to start their meal as soon as possible, that's why you should help them and find out, if they can divide the watermelon in the way they want. For sure, each of them should get a part of positive weight.\n",
    "\n",
    "### Input\n",
    "The first (and the only) input line contains integer number $w (1 ≤ w ≤ 100)$ — the weight of the watermelon bought by the boys.\n",
    "\n",
    "**8**\n",
    "\n",
    "### Output\n",
    "Print YES, if the boys can divide the watermelon into two parts, each of them weighing even number of kilos; and NO in the opposite case.\n",
    "\n",
    "**YES**"
   ]
  },
  {
   "cell_type": "code",
   "execution_count": null,
   "id": "87b619dc",
   "metadata": {},
   "outputs": [],
   "source": [
    "ww = int(input('Insira um valor para o peso da melancia: '))\n",
    "\n",
    "awnser = ''\n",
    "\n",
    "if (ww % 2) == 0:\n",
    "    awnser = 'YES'\n",
    "else:\n",
    "    awnser = 'NO'\n",
    "\n",
    "print(awnser)\n",
    "\n",
    "# Este programa pode ser realizado desta forma pois, mesmo que um numero que é divisivel por 2 resulte em 2 números impares\n",
    "# podemos retirar 1 de uma metade e acrescentar 1 na outra, ficando assim com as duas partes pares, portanto qualquer número\n",
    "# divisivel por 2 maior que 2, pode ser escrito como uma soma de dois números pares.\n"
   ]
  },
  {
   "cell_type": "markdown",
   "id": "06f340b4",
   "metadata": {},
   "source": [
    "---"
   ]
  },
  {
   "cell_type": "markdown",
   "id": "db39c7c7",
   "metadata": {},
   "source": [
    "# A. Way Too Long Words (800)\n",
    "Sometimes some words like \"localization\" or \"internationalization\" are so long that writing them many times in one text is quite tiresome.\n",
    "\n",
    "Let's consider a word too long, if its length is strictly more than 10 characters. All too long words should be replaced with a special abbreviation.\n",
    "\n",
    "This abbreviation is made like this: we write down the first and the last letter of a word and between them we write the number of letters between the first and the last letters. That number is in decimal system and doesn't contain any leading zeroes.\n",
    "\n",
    "Thus, \"localization\" will be spelt as \"l10n\", and \"internationalization» will be spelt as \"i18n\".\n",
    "\n",
    "You are suggested to automatize the process of changing the words with abbreviations. At that all too long words should be replaced by the abbreviation and the words that are not too long should not undergo any changes.\n",
    "\n",
    "### Input\n",
    "The first line contains an integer $n (1 ≤ n ≤ 100)$. Each of the following $n$ lines contains one word. All the words consist of lowercase Latin letters and possess the lengths of from 1 to 100 characters.\n",
    "\n",
    "\n",
    "**4**\n",
    "\n",
    "**word**\n",
    "\n",
    "**localization**\n",
    "\n",
    "**internationalization**\n",
    "\n",
    "**pneumonoultramicroscopicsilicovolcanoconiosis**\n",
    "\n",
    "\n",
    "### Output\n",
    "Print $n$ lines. The $i$-th line should contain the result of replacing of the i-th word from the input data.\n",
    "\n",
    "**word**\n",
    "\n",
    "**l10n**\n",
    "\n",
    "**i18n**\n",
    "\n",
    "**p43s**"
   ]
  },
  {
   "cell_type": "code",
   "execution_count": null,
   "id": "3f73ba08",
   "metadata": {},
   "outputs": [],
   "source": [
    "palavra = input('Digite uma palavra: ')\n",
    "k = ''\n",
    "try:\n",
    "    k = int(palavra)\n",
    "except:\n",
    "    pass\n",
    "finally:\n",
    "    if type(k) == type('') and len(palavra) > 10:\n",
    "        print(f'{palavra[0]}{len(palavra) - 2}{palavra[-1]}')\n",
    "    elif type(k) == type(''):\n",
    "        print(palavra)"
   ]
  },
  {
   "cell_type": "markdown",
   "id": "56b5b1eb",
   "metadata": {},
   "source": []
  }
 ],
 "metadata": {
  "kernelspec": {
   "display_name": "Python 3",
   "language": "python",
   "name": "python3"
  },
  "language_info": {
   "codemirror_mode": {
    "name": "ipython",
    "version": 3
   },
   "file_extension": ".py",
   "mimetype": "text/x-python",
   "name": "python",
   "nbconvert_exporter": "python",
   "pygments_lexer": "ipython3",
   "version": "3.9.2"
  }
 },
 "nbformat": 4,
 "nbformat_minor": 5
}
